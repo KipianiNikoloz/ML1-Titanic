{
  "nbformat": 4,
  "nbformat_minor": 0,
  "metadata": {
    "colab": {
      "provenance": []
    },
    "kernelspec": {
      "name": "python3",
      "display_name": "Python 3"
    },
    "language_info": {
      "name": "python"
    }
  },
  "cells": [
    {
      "cell_type": "markdown",
      "source": [
        "#Initial Setup\n",
        "\n",
        "We set up the necessary libraries we need for the assignment. These contain tools for initial exploratory analysis, working with data, and train the model."
      ],
      "metadata": {
        "id": "ZLvWOh5DkyBM"
      }
    },
    {
      "cell_type": "code",
      "execution_count": 28,
      "metadata": {
        "id": "m9ZMIAyjcUj5"
      },
      "outputs": [],
      "source": [
        "import pandas as pd\n",
        "import numpy as np\n",
        "import matplotlib.pyplot as plt\n",
        "import seaborn as sns\n",
        "\n",
        "from sklearn.model_selection import train_test_split, GridSearchCV\n",
        "from sklearn.preprocessing import OneHotEncoder, StandardScaler\n",
        "\n",
        "from sklearn.linear_model import LogisticRegression\n",
        "\n",
        "from sklearn.ensemble import RandomForestClassifier\n",
        "\n",
        "from imblearn.over_sampling import SMOTE\n",
        "\n",
        "from sklearn.metrics import (accuracy_score, precision_score, recall_score,\n",
        "                             f1_score, confusion_matrix, roc_auc_score,\n",
        "                             classification_report)\n"
      ]
    },
    {
      "cell_type": "markdown",
      "source": [
        "#Preliminary Steps\n",
        "\n",
        "The preliminary steps for our data are exploring the data so we can gather some interesting insights. The work we have done below shows us notable details about the data. For example, some features like fare have too wide of a range to not think that there will be outliers. Additionally, we can infer that some of the columns will not be useful for our model. For example, the name is too general to give us any meaningful insight. If we extracted the title out of the name, then we might get some use out of it, but I think this is not a necessary step and should not be a priority in our case. The heatmap of missing values gives us an idea of what kind of data cleaning will need to be performed. Some of the columns may need to be dropped due to having too many empty values, while others can be filled according to their variable type."
      ],
      "metadata": {
        "id": "WhmQ5IykRWio"
      }
    },
    {
      "cell_type": "code",
      "source": [
        "df = pd.read_excel(\"./titanic3.xls\")\n",
        "\n",
        "# Display initial preview to understand the data's structure.\n",
        "print(\"Data Preview:\")\n",
        "print(df.head())\n",
        "\n",
        "# Get info about the dataset (column types, non-null counts, etc.).\n",
        "print(\"\\nData Info:\")\n",
        "print(df.info())\n",
        "\n",
        "# Show summary statistics for numerical features.\n",
        "print(\"\\nDescriptive Statistics:\")\n",
        "print(df.describe())\n",
        "\n",
        "# Visualize missing values using a heatmap.\n",
        "plt.figure(figsize=(10, 6))\n",
        "sns.heatmap(df.isnull(), cbar=False, cmap='viridis')\n",
        "plt.title(\"Missing Values Heatmap\")\n",
        "plt.show()\n",
        "\n",
        "# Additional Exploratory Data Analysis (EDA)\n",
        "plt.figure(figsize=(14, 4))\n",
        "plt.subplot(1, 3, 1)\n",
        "sns.histplot(df['fare'], kde=True)\n",
        "plt.title(\"Fare Distribution\")\n",
        "\n",
        "plt.subplot(1, 3, 2)\n",
        "sns.histplot(df['sibsp'], kde=True)\n",
        "plt.title(\"Siblings/Spouses Distribution\")\n",
        "\n",
        "plt.subplot(1, 3, 3)\n",
        "sns.histplot(df['parch'], kde=True)\n",
        "plt.title(\"Parents/Children Distribution\")\n",
        "plt.tight_layout()\n",
        "plt.show()\n",
        "\n",
        "plt.figure(figsize=(6, 4))\n",
        "sns.countplot(x='survived', data=df)\n",
        "plt.title(\"Survival Counts\")\n",
        "plt.show()"
      ],
      "metadata": {
        "colab": {
          "base_uri": "https://localhost:8080/",
          "height": 2391
        },
        "id": "Cly4FpzWdm5_",
        "outputId": "abbd99a9-9f0a-49ea-ff0b-593a65ccc8c1"
      },
      "execution_count": 3,
      "outputs": [
        {
          "output_type": "stream",
          "name": "stdout",
          "text": [
            "Data Preview:\n",
            "   pclass  survived                                             name     sex  \\\n",
            "0       1         1                    Allen, Miss. Elisabeth Walton  female   \n",
            "1       1         1                   Allison, Master. Hudson Trevor    male   \n",
            "2       1         0                     Allison, Miss. Helen Loraine  female   \n",
            "3       1         0             Allison, Mr. Hudson Joshua Creighton    male   \n",
            "4       1         0  Allison, Mrs. Hudson J C (Bessie Waldo Daniels)  female   \n",
            "\n",
            "       age  sibsp  parch  ticket      fare    cabin embarked boat   body  \\\n",
            "0  29.0000      0      0   24160  211.3375       B5        S    2    NaN   \n",
            "1   0.9167      1      2  113781  151.5500  C22 C26        S   11    NaN   \n",
            "2   2.0000      1      2  113781  151.5500  C22 C26        S  NaN    NaN   \n",
            "3  30.0000      1      2  113781  151.5500  C22 C26        S  NaN  135.0   \n",
            "4  25.0000      1      2  113781  151.5500  C22 C26        S  NaN    NaN   \n",
            "\n",
            "                         home.dest  \n",
            "0                     St Louis, MO  \n",
            "1  Montreal, PQ / Chesterville, ON  \n",
            "2  Montreal, PQ / Chesterville, ON  \n",
            "3  Montreal, PQ / Chesterville, ON  \n",
            "4  Montreal, PQ / Chesterville, ON  \n",
            "\n",
            "Data Info:\n",
            "<class 'pandas.core.frame.DataFrame'>\n",
            "RangeIndex: 1309 entries, 0 to 1308\n",
            "Data columns (total 14 columns):\n",
            " #   Column     Non-Null Count  Dtype  \n",
            "---  ------     --------------  -----  \n",
            " 0   pclass     1309 non-null   int64  \n",
            " 1   survived   1309 non-null   int64  \n",
            " 2   name       1309 non-null   object \n",
            " 3   sex        1309 non-null   object \n",
            " 4   age        1046 non-null   float64\n",
            " 5   sibsp      1309 non-null   int64  \n",
            " 6   parch      1309 non-null   int64  \n",
            " 7   ticket     1309 non-null   object \n",
            " 8   fare       1308 non-null   float64\n",
            " 9   cabin      295 non-null    object \n",
            " 10  embarked   1307 non-null   object \n",
            " 11  boat       486 non-null    object \n",
            " 12  body       121 non-null    float64\n",
            " 13  home.dest  745 non-null    object \n",
            "dtypes: float64(3), int64(4), object(7)\n",
            "memory usage: 143.3+ KB\n",
            "None\n",
            "\n",
            "Descriptive Statistics:\n",
            "            pclass     survived          age        sibsp        parch  \\\n",
            "count  1309.000000  1309.000000  1046.000000  1309.000000  1309.000000   \n",
            "mean      2.294882     0.381971    29.881135     0.498854     0.385027   \n",
            "std       0.837836     0.486055    14.413500     1.041658     0.865560   \n",
            "min       1.000000     0.000000     0.166700     0.000000     0.000000   \n",
            "25%       2.000000     0.000000    21.000000     0.000000     0.000000   \n",
            "50%       3.000000     0.000000    28.000000     0.000000     0.000000   \n",
            "75%       3.000000     1.000000    39.000000     1.000000     0.000000   \n",
            "max       3.000000     1.000000    80.000000     8.000000     9.000000   \n",
            "\n",
            "              fare        body  \n",
            "count  1308.000000  121.000000  \n",
            "mean     33.295479  160.809917  \n",
            "std      51.758668   97.696922  \n",
            "min       0.000000    1.000000  \n",
            "25%       7.895800   72.000000  \n",
            "50%      14.454200  155.000000  \n",
            "75%      31.275000  256.000000  \n",
            "max     512.329200  328.000000  \n"
          ]
        },
        {
          "output_type": "display_data",
          "data": {
            "text/plain": [
              "<Figure size 1000x600 with 1 Axes>"
            ],
            "image/png": "[encoded data removed]"
          },
          "metadata": {}
        },
        {
          "output_type": "display_data",
          "data": {
            "text/plain": [
              "<Figure size 1400x400 with 3 Axes>"
            ],
            "image/png": "[encoded data removed]"
          },
          "metadata": {}
        },
        {
          "output_type": "display_data",
          "data": {
            "text/plain": [
              "<Figure size 600x400 with 1 Axes>"
            ],
            "image/png": "[encoded data removed]"
          },
          "metadata": {}
        }
      ]
    },
    {
      "cell_type": "markdown",
      "source": [
        "#Cleaning the data\n",
        "\n",
        "Here we start to clean the data and prepare it for training. We drop many columns due to different reasons. The name is mostly unique and does not offer any valuable information. The ticket is too inconsistent to gather anything meaningful. Cabin has too many empty values to fill in reliably. Boat and body are data that are only known after the incident, so we drop them to avoid leakage. The home.dest values offer no predictive significance and can safely be dropped."
      ],
      "metadata": {
        "id": "GM2epQD6SnwS"
      }
    },
    {
      "cell_type": "code",
      "source": [
        "drop_cols = ['name', 'ticket', 'cabin', 'boat', 'body', 'home.dest']\n",
        "for col in drop_cols:\n",
        "    if col in df.columns:\n",
        "        df.drop(columns=col, inplace=True)"
      ],
      "metadata": {
        "id": "ZlF9IM-fmW7-"
      },
      "execution_count": 4,
      "outputs": []
    },
    {
      "cell_type": "code",
      "source": [
        "print(\"\\nColumns after dropping irrelevant ones:\")\n",
        "print(df.columns)"
      ],
      "metadata": {
        "colab": {
          "base_uri": "https://localhost:8080/",
          "height": 0
        },
        "id": "dDabocdDK1sr",
        "outputId": "5e9b265b-7858-468e-907b-f37c143ad1db"
      },
      "execution_count": 5,
      "outputs": [
        {
          "output_type": "stream",
          "name": "stdout",
          "text": [
            "\n",
            "Columns after dropping irrelevant ones:\n",
            "Index(['pclass', 'survived', 'sex', 'age', 'sibsp', 'parch', 'fare',\n",
            "       'embarked'],\n",
            "      dtype='object')\n"
          ]
        }
      ]
    },
    {
      "cell_type": "markdown",
      "source": [
        "Here we start filling in the missing values. For numerical variables, we submit the median as it is resistant to outliers and can reasonably be used to fill missing values. For categorical variables, we use the mode, as this is the most common element."
      ],
      "metadata": {
        "id": "I4wwyVxmTXwH"
      }
    },
    {
      "cell_type": "code",
      "source": [
        "for col in df.columns:\n",
        "    if df[col].isnull().sum() > 0:\n",
        "        if df[col].dtype == 'object':\n",
        "            mode_value = df[col].mode()[0]\n",
        "            df[col].fillna(mode_value, inplace=True)\n",
        "            print(f\"Inputed missing values in categorical column '{col}' with mode: {mode_value}\")\n",
        "        else:\n",
        "            median_value = df[col].median()\n",
        "            df[col].fillna(median_value, inplace=True)\n",
        "            print(f\"Inputed missing values in numerical column '{col}' with median: {median_value}\")"
      ],
      "metadata": {
        "colab": {
          "base_uri": "https://localhost:8080/",
          "height": 0
        },
        "id": "SjkFVrX-hP1D",
        "outputId": "79b89a36-f8a1-4314-959e-807e7f996a2d"
      },
      "execution_count": 6,
      "outputs": [
        {
          "output_type": "stream",
          "name": "stdout",
          "text": [
            "Inputed missing values in numerical column 'age' with median: 28.0\n",
            "Inputed missing values in numerical column 'fare' with median: 14.4542\n",
            "Inputed missing values in categorical column 'embarked' with mode: S\n"
          ]
        },
        {
          "output_type": "stream",
          "name": "stderr",
          "text": [
            "<ipython-input-6-406c0dcbe149>:9: FutureWarning: A value is trying to be set on a copy of a DataFrame or Series through chained assignment using an inplace method.\n",
            "The behavior will change in pandas 3.0. This inplace method will never work because the intermediate object on which we are setting values always behaves as a copy.\n",
            "\n",
            "For example, when doing 'df[col].method(value, inplace=True)', try using 'df.method({col: value}, inplace=True)' or df[col] = df[col].method(value) instead, to perform the operation inplace on the original object.\n",
            "\n",
            "\n",
            "  df[col].fillna(median_value, inplace=True)\n",
            "<ipython-input-6-406c0dcbe149>:5: FutureWarning: A value is trying to be set on a copy of a DataFrame or Series through chained assignment using an inplace method.\n",
            "The behavior will change in pandas 3.0. This inplace method will never work because the intermediate object on which we are setting values always behaves as a copy.\n",
            "\n",
            "For example, when doing 'df[col].method(value, inplace=True)', try using 'df.method({col: value}, inplace=True)' or df[col] = df[col].method(value) instead, to perform the operation inplace on the original object.\n",
            "\n",
            "\n",
            "  df[col].fillna(mode_value, inplace=True)\n"
          ]
        }
      ]
    },
    {
      "cell_type": "markdown",
      "source": [
        "One of the essential steps we need to perform is encoding categorical variables. ML algorithms require numerical data, which is not what categorical variables are. By encoding them and turning them into numerical values, we can use them to train our model. The training is performed using OneHotEncoder"
      ],
      "metadata": {
        "id": "e1Nu70EnT53j"
      }
    },
    {
      "cell_type": "code",
      "source": [
        "categorical_features = []\n",
        "for col in ['sex', 'embarked', 'pclass']:\n",
        "    if col in df.columns:\n",
        "        categorical_features.append(col)"
      ],
      "metadata": {
        "id": "x_utqGoQx6YX"
      },
      "execution_count": 10,
      "outputs": []
    },
    {
      "cell_type": "code",
      "source": [
        "one_hot_encoder = OneHotEncoder(drop='first', sparse_output=False)\n",
        "encoded_cat = one_hot_encoder.fit_transform(df[categorical_features])\n",
        "encoded_cat_df = pd.DataFrame(encoded_cat,\n",
        "                              columns=one_hot_encoder.get_feature_names_out(categorical_features))"
      ],
      "metadata": {
        "id": "EMSPE66QLZyK"
      },
      "execution_count": 11,
      "outputs": []
    },
    {
      "cell_type": "code",
      "source": [
        "df = df.drop(columns=categorical_features).join(encoded_cat_df)"
      ],
      "metadata": {
        "id": "iX4K_BCLLaLp"
      },
      "execution_count": 12,
      "outputs": []
    },
    {
      "cell_type": "code",
      "source": [
        "numerical_features = ['fare', 'sibsp', 'parch']\n",
        "scaler = StandardScaler()\n",
        "for feature in numerical_features:\n",
        "    if feature in df.columns:\n",
        "        df[feature] = scaler.fit_transform(df[[feature]])\n",
        "        print(f\"Scaled feature '{feature}' using StandardScaler.\")"
      ],
      "metadata": {
        "id": "jblX30HM0zGw",
        "colab": {
          "base_uri": "https://localhost:8080/",
          "height": 0
        },
        "outputId": "2c9cd6a2-1489-4a84-c39e-126c9426c844"
      },
      "execution_count": 13,
      "outputs": [
        {
          "output_type": "stream",
          "name": "stdout",
          "text": [
            "Scaled feature 'fare' using StandardScaler.\n",
            "Scaled feature 'sibsp' using StandardScaler.\n",
            "Scaled feature 'parch' using StandardScaler.\n"
          ]
        }
      ]
    },
    {
      "cell_type": "markdown",
      "source": [
        "#Feature Scaling and Splitting the Data\n",
        "\n",
        "Since we have multiple different features, they all have different value ranges. This will be a problem as the algorithm will innacurately weigh these values during its training and we will have innacurate predictions. To prevent them, we standardize them so they all have the same range and don't cause problems during the training process. Additionally, at this stage the data is split into training, validation, and test datasets."
      ],
      "metadata": {
        "id": "VVD93P_3UN28"
      }
    },
    {
      "cell_type": "code",
      "source": [
        "y = df['survived']\n",
        "X = df.drop(columns=['survived'])"
      ],
      "metadata": {
        "id": "qBDop-m82Bxr"
      },
      "execution_count": 14,
      "outputs": []
    },
    {
      "cell_type": "code",
      "source": [
        "X_train, X_temp, y_train, y_temp = train_test_split(X, y, test_size=0.3, stratify=y, random_state=42)\n",
        "X_val, X_test, y_val, y_test = train_test_split(X_temp, y_temp, test_size=0.5, stratify=y_temp, random_state=42)"
      ],
      "metadata": {
        "id": "GnKTurNUL45Z"
      },
      "execution_count": 15,
      "outputs": []
    },
    {
      "cell_type": "code",
      "source": [
        "X_train = X_train.apply(pd.to_numeric, errors='coerce')\n",
        "X_val = X_val.apply(pd.to_numeric, errors='coerce')\n",
        "X_test = X_test.apply(pd.to_numeric, errors='coerce')"
      ],
      "metadata": {
        "id": "PL-VIS0oMC91"
      },
      "execution_count": 16,
      "outputs": []
    },
    {
      "cell_type": "markdown",
      "source": [
        "#Addressing Class Imbalances using SMOTE\n",
        "\n",
        "Our data has a problem - the number of survivors is heavily outweighed by the number of non-survivors. This will cause our model to skew towards predicting the majority class. If we apply SMOTE, we will balance the data and the model will be better suited to detect patters in the minority class."
      ],
      "metadata": {
        "id": "rDdEtsQtUo20"
      }
    },
    {
      "cell_type": "code",
      "source": [
        "smote = SMOTE(random_state=42)\n",
        "X_train, y_train = smote.fit_resample(X_train, y_train)\n",
        "print(\"\\nAfter SMOTE, the class distribution in training set:\")\n",
        "print(pd.Series(y_train).value_counts())"
      ],
      "metadata": {
        "id": "BH5peVepY0dE",
        "colab": {
          "base_uri": "https://localhost:8080/",
          "height": 0
        },
        "outputId": "df4ffb2e-ff26-463e-bdeb-b0006ecce702"
      },
      "execution_count": 17,
      "outputs": [
        {
          "output_type": "stream",
          "name": "stdout",
          "text": [
            "\n",
            "After SMOTE, the class distribution in training set:\n",
            "survived\n",
            "0    566\n",
            "1    566\n",
            "Name: count, dtype: int64\n"
          ]
        }
      ]
    },
    {
      "cell_type": "markdown",
      "source": [
        "#Feature Selection\n",
        "\n",
        "Some of the features in our data may be highly correlated. This means that one of these features can be dropped without losing predictive power, while also simplifying the model. To do this, we use the Upper Triangle method. If we find any redundant features, they are dropped"
      ],
      "metadata": {
        "id": "x6HR3yOiiDyx"
      }
    },
    {
      "cell_type": "code",
      "source": [
        "corr_matrix = X_train.corr().abs()"
      ],
      "metadata": {
        "id": "6QzASMdVMf__"
      },
      "execution_count": 18,
      "outputs": []
    },
    {
      "cell_type": "code",
      "source": [
        "upper_tri = corr_matrix.where(np.triu(np.ones(corr_matrix.shape), k=1).astype(bool))"
      ],
      "metadata": {
        "id": "cty2M-MdMhNr"
      },
      "execution_count": 19,
      "outputs": []
    },
    {
      "cell_type": "code",
      "source": [
        "to_drop = [column for column in upper_tri.columns if any(upper_tri[column] > 0.8)]\n",
        "print(\"\\nFeatures identified for removal due to high correlation:\", to_drop)"
      ],
      "metadata": {
        "colab": {
          "base_uri": "https://localhost:8080/",
          "height": 0
        },
        "id": "8NHIt1TtMkMj",
        "outputId": "33e4a697-5bf4-4f65-c4c3-f91d84d91e83"
      },
      "execution_count": 20,
      "outputs": [
        {
          "output_type": "stream",
          "name": "stdout",
          "text": [
            "\n",
            "Features identified for removal due to high correlation: []\n"
          ]
        }
      ]
    },
    {
      "cell_type": "code",
      "source": [
        "if len(to_drop) < X_train.shape[1]:\n",
        "    X_train = X_train.drop(columns=to_drop)\n",
        "    X_val = X_val.drop(columns=to_drop)\n",
        "    X_test = X_test.drop(columns=to_drop)\n",
        "else:\n",
        "    print(\"Skipping feature drop to avoid empty feature set.\")"
      ],
      "metadata": {
        "id": "M3T9q-UDMpzK"
      },
      "execution_count": 21,
      "outputs": []
    },
    {
      "cell_type": "markdown",
      "source": [
        "#Training the Model\n",
        "\n",
        "As we have finished the preliminary work, we can now start training the model. We will be using logistic regression. It's performance metris, like precision, recall, accuracy, ROC-AUC and the F1 score will give us an idea of how well it performs. Additionally, the confusion matrix and the classification report gives us an idea of what specific weakpoints we need to target in the pipeline."
      ],
      "metadata": {
        "id": "zT4DhfpYke6C"
      }
    },
    {
      "cell_type": "code",
      "source": [
        "model = LogisticRegression()\n",
        "model.fit(X_train, y_train)"
      ],
      "metadata": {
        "colab": {
          "base_uri": "https://localhost:8080/",
          "height": 57
        },
        "id": "fgS6F0IZMprX",
        "outputId": "f26233da-dec1-408c-f276-fa820dc56890"
      },
      "execution_count": 22,
      "outputs": [
        {
          "output_type": "execute_result",
          "data": {
            "text/plain": [
              "LogisticRegression()"
            ],
            "text/html": [
              "<style>#sk-container-id-1 {\n",
              "  /* Definition of color scheme common for light and dark mode */\n",
              "  --sklearn-color-text: #000;\n",
              "  --sklearn-color-text-muted: #666;\n",
              "  --sklearn-color-line: gray;\n",
              "  /* Definition of color scheme for unfitted estimators */\n",
              "  --sklearn-color-unfitted-level-0: #fff5e6;\n",
              "  --sklearn-color-unfitted-level-1: #f6e4d2;\n",
              "  --sklearn-color-unfitted-level-2: #ffe0b3;\n",
              "  --sklearn-color-unfitted-level-3: chocolate;\n",
              "  /* Definition of color scheme for fitted estimators */\n",
              "  --sklearn-color-fitted-level-0: #f0f8ff;\n",
              "  --sklearn-color-fitted-level-1: #d4ebff;\n",
              "  --sklearn-color-fitted-level-2: #b3dbfd;\n",
              "  --sklearn-color-fitted-level-3: cornflowerblue;\n",
              "\n",
              "  /* Specific color for light theme */\n",
              "  --sklearn-color-text-on-default-background: var(--sg-text-color, var(--theme-code-foreground, var(--jp-content-font-color1, black)));\n",
              "  --sklearn-color-background: var(--sg-background-color, var(--theme-background, var(--jp-layout-color0, white)));\n",
              "  --sklearn-color-border-box: var(--sg-text-color, var(--theme-code-foreground, var(--jp-content-font-color1, black)));\n",
              "  --sklearn-color-icon: #696969;\n",
              "\n",
              "  @media (prefers-color-scheme: dark) {\n",
              "    /* Redefinition of color scheme for dark theme */\n",
              "    --sklearn-color-text-on-default-background: var(--sg-text-color, var(--theme-code-foreground, var(--jp-content-font-color1, white)));\n",
              "    --sklearn-color-background: var(--sg-background-color, var(--theme-background, var(--jp-layout-color0, #111)));\n",
              "    --sklearn-color-border-box: var(--sg-text-color, var(--theme-code-foreground, var(--jp-content-font-color1, white)));\n",
              "    --sklearn-color-icon: #878787;\n",
              "  }\n",
              "}\n",
              "\n",
              "#sk-container-id-1 {\n",
              "  color: var(--sklearn-color-text);\n",
              "}\n",
              "\n",
              "#sk-container-id-1 pre {\n",
              "  padding: 0;\n",
              "}\n",
              "\n",
              "#sk-container-id-1 input.sk-hidden--visually {\n",
              "  border: 0;\n",
              "  clip: rect(1px 1px 1px 1px);\n",
              "  clip: rect(1px, 1px, 1px, 1px);\n",
              "  height: 1px;\n",
              "  margin: -1px;\n",
              "  overflow: hidden;\n",
              "  padding: 0;\n",
              "  position: absolute;\n",
              "  width: 1px;\n",
              "}\n",
              "\n",
              "#sk-container-id-1 div.sk-dashed-wrapped {\n",
              "  border: 1px dashed var(--sklearn-color-line);\n",
              "  margin: 0 0.4em 0.5em 0.4em;\n",
              "  box-sizing: border-box;\n",
              "  padding-bottom: 0.4em;\n",
              "  background-color: var(--sklearn-color-background);\n",
              "}\n",
              "\n",
              "#sk-container-id-1 div.sk-container {\n",
              "  /* jupyter's `normalize.less` sets `[hidden] { display: none; }`\n",
              "     but bootstrap.min.css set `[hidden] { display: none !important; }`\n",
              "     so we also need the `!important` here to be able to override the\n",
              "     default hidden behavior on the sphinx rendered scikit-learn.org.\n",
              "     See: https://github.com/scikit-learn/scikit-learn/issues/21755 */\n",
              "  display: inline-block !important;\n",
              "  position: relative;\n",
              "}\n",
              "\n",
              "#sk-container-id-1 div.sk-text-repr-fallback {\n",
              "  display: none;\n",
              "}\n",
              "\n",
              "div.sk-parallel-item,\n",
              "div.sk-serial,\n",
              "div.sk-item {\n",
              "  /* draw centered vertical line to link estimators */\n",
              "  background-image: linear-gradient(var(--sklearn-color-text-on-default-background), var(--sklearn-color-text-on-default-background));\n",
              "  background-size: 2px 100%;\n",
              "  background-repeat: no-repeat;\n",
              "  background-position: center center;\n",
              "}\n",
              "\n",
              "/* Parallel-specific style estimator block */\n",
              "\n",
              "#sk-container-id-1 div.sk-parallel-item::after {\n",
              "  content: \"\";\n",
              "  width: 100%;\n",
              "  border-bottom: 2px solid var(--sklearn-color-text-on-default-background);\n",
              "  flex-grow: 1;\n",
              "}\n",
              "\n",
              "#sk-container-id-1 div.sk-parallel {\n",
              "  display: flex;\n",
              "  align-items: stretch;\n",
              "  justify-content: center;\n",
              "  background-color: var(--sklearn-color-background);\n",
              "  position: relative;\n",
              "}\n",
              "\n",
              "#sk-container-id-1 div.sk-parallel-item {\n",
              "  display: flex;\n",
              "  flex-direction: column;\n",
              "}\n",
              "\n",
              "#sk-container-id-1 div.sk-parallel-item:first-child::after {\n",
              "  align-self: flex-end;\n",
              "  width: 50%;\n",
              "}\n",
              "\n",
              "#sk-container-id-1 div.sk-parallel-item:last-child::after {\n",
              "  align-self: flex-start;\n",
              "  width: 50%;\n",
              "}\n",
              "\n",
              "#sk-container-id-1 div.sk-parallel-item:only-child::after {\n",
              "  width: 0;\n",
              "}\n",
              "\n",
              "/* Serial-specific style estimator block */\n",
              "\n",
              "#sk-container-id-1 div.sk-serial {\n",
              "  display: flex;\n",
              "  flex-direction: column;\n",
              "  align-items: center;\n",
              "  background-color: var(--sklearn-color-background);\n",
              "  padding-right: 1em;\n",
              "  padding-left: 1em;\n",
              "}\n",
              "\n",
              "\n",
              "/* Toggleable style: style used for estimator/Pipeline/ColumnTransformer box that is\n",
              "clickable and can be expanded/collapsed.\n",
              "- Pipeline and ColumnTransformer use this feature and define the default style\n",
              "- Estimators will overwrite some part of the style using the `sk-estimator` class\n",
              "*/\n",
              "\n",
              "/* Pipeline and ColumnTransformer style (default) */\n",
              "\n",
              "#sk-container-id-1 div.sk-toggleable {\n",
              "  /* Default theme specific background. It is overwritten whether we have a\n",
              "  specific estimator or a Pipeline/ColumnTransformer */\n",
              "  background-color: var(--sklearn-color-background);\n",
              "}\n",
              "\n",
              "/* Toggleable label */\n",
              "#sk-container-id-1 label.sk-toggleable__label {\n",
              "  cursor: pointer;\n",
              "  display: flex;\n",
              "  width: 100%;\n",
              "  margin-bottom: 0;\n",
              "  padding: 0.5em;\n",
              "  box-sizing: border-box;\n",
              "  text-align: center;\n",
              "  align-items: start;\n",
              "  justify-content: space-between;\n",
              "  gap: 0.5em;\n",
              "}\n",
              "\n",
              "#sk-container-id-1 label.sk-toggleable__label .caption {\n",
              "  font-size: 0.6rem;\n",
              "  font-weight: lighter;\n",
              "  color: var(--sklearn-color-text-muted);\n",
              "}\n",
              "\n",
              "#sk-container-id-1 label.sk-toggleable__label-arrow:before {\n",
              "  /* Arrow on the left of the label */\n",
              "  content: \"▸\";\n",
              "  float: left;\n",
              "  margin-right: 0.25em;\n",
              "  color: var(--sklearn-color-icon);\n",
              "}\n",
              "\n",
              "#sk-container-id-1 label.sk-toggleable__label-arrow:hover:before {\n",
              "  color: var(--sklearn-color-text);\n",
              "}\n",
              "\n",
              "/* Toggleable content - dropdown */\n",
              "\n",
              "#sk-container-id-1 div.sk-toggleable__content {\n",
              "  max-height: 0;\n",
              "  max-width: 0;\n",
              "  overflow: hidden;\n",
              "  text-align: left;\n",
              "  /* unfitted */\n",
              "  background-color: var(--sklearn-color-unfitted-level-0);\n",
              "}\n",
              "\n",
              "#sk-container-id-1 div.sk-toggleable__content.fitted {\n",
              "  /* fitted */\n",
              "  background-color: var(--sklearn-color-fitted-level-0);\n",
              "}\n",
              "\n",
              "#sk-container-id-1 div.sk-toggleable__content pre {\n",
              "  margin: 0.2em;\n",
              "  border-radius: 0.25em;\n",
              "  color: var(--sklearn-color-text);\n",
              "  /* unfitted */\n",
              "  background-color: var(--sklearn-color-unfitted-level-0);\n",
              "}\n",
              "\n",
              "#sk-container-id-1 div.sk-toggleable__content.fitted pre {\n",
              "  /* unfitted */\n",
              "  background-color: var(--sklearn-color-fitted-level-0);\n",
              "}\n",
              "\n",
              "#sk-container-id-1 input.sk-toggleable__control:checked~div.sk-toggleable__content {\n",
              "  /* Expand drop-down */\n",
              "  max-height: 200px;\n",
              "  max-width: 100%;\n",
              "  overflow: auto;\n",
              "}\n",
              "\n",
              "#sk-container-id-1 input.sk-toggleable__control:checked~label.sk-toggleable__label-arrow:before {\n",
              "  content: \"▾\";\n",
              "}\n",
              "\n",
              "/* Pipeline/ColumnTransformer-specific style */\n",
              "\n",
              "#sk-container-id-1 div.sk-label input.sk-toggleable__control:checked~label.sk-toggleable__label {\n",
              "  color: var(--sklearn-color-text);\n",
              "  background-color: var(--sklearn-color-unfitted-level-2);\n",
              "}\n",
              "\n",
              "#sk-container-id-1 div.sk-label.fitted input.sk-toggleable__control:checked~label.sk-toggleable__label {\n",
              "  background-color: var(--sklearn-color-fitted-level-2);\n",
              "}\n",
              "\n",
              "/* Estimator-specific style */\n",
              "\n",
              "/* Colorize estimator box */\n",
              "#sk-container-id-1 div.sk-estimator input.sk-toggleable__control:checked~label.sk-toggleable__label {\n",
              "  /* unfitted */\n",
              "  background-color: var(--sklearn-color-unfitted-level-2);\n",
              "}\n",
              "\n",
              "#sk-container-id-1 div.sk-estimator.fitted input.sk-toggleable__control:checked~label.sk-toggleable__label {\n",
              "  /* fitted */\n",
              "  background-color: var(--sklearn-color-fitted-level-2);\n",
              "}\n",
              "\n",
              "#sk-container-id-1 div.sk-label label.sk-toggleable__label,\n",
              "#sk-container-id-1 div.sk-label label {\n",
              "  /* The background is the default theme color */\n",
              "  color: var(--sklearn-color-text-on-default-background);\n",
              "}\n",
              "\n",
              "/* On hover, darken the color of the background */\n",
              "#sk-container-id-1 div.sk-label:hover label.sk-toggleable__label {\n",
              "  color: var(--sklearn-color-text);\n",
              "  background-color: var(--sklearn-color-unfitted-level-2);\n",
              "}\n",
              "\n",
              "/* Label box, darken color on hover, fitted */\n",
              "#sk-container-id-1 div.sk-label.fitted:hover label.sk-toggleable__label.fitted {\n",
              "  color: var(--sklearn-color-text);\n",
              "  background-color: var(--sklearn-color-fitted-level-2);\n",
              "}\n",
              "\n",
              "/* Estimator label */\n",
              "\n",
              "#sk-container-id-1 div.sk-label label {\n",
              "  font-family: monospace;\n",
              "  font-weight: bold;\n",
              "  display: inline-block;\n",
              "  line-height: 1.2em;\n",
              "}\n",
              "\n",
              "#sk-container-id-1 div.sk-label-container {\n",
              "  text-align: center;\n",
              "}\n",
              "\n",
              "/* Estimator-specific */\n",
              "#sk-container-id-1 div.sk-estimator {\n",
              "  font-family: monospace;\n",
              "  border: 1px dotted var(--sklearn-color-border-box);\n",
              "  border-radius: 0.25em;\n",
              "  box-sizing: border-box;\n",
              "  margin-bottom: 0.5em;\n",
              "  /* unfitted */\n",
              "  background-color: var(--sklearn-color-unfitted-level-0);\n",
              "}\n",
              "\n",
              "#sk-container-id-1 div.sk-estimator.fitted {\n",
              "  /* fitted */\n",
              "  background-color: var(--sklearn-color-fitted-level-0);\n",
              "}\n",
              "\n",
              "/* on hover */\n",
              "#sk-container-id-1 div.sk-estimator:hover {\n",
              "  /* unfitted */\n",
              "  background-color: var(--sklearn-color-unfitted-level-2);\n",
              "}\n",
              "\n",
              "#sk-container-id-1 div.sk-estimator.fitted:hover {\n",
              "  /* fitted */\n",
              "  background-color: var(--sklearn-color-fitted-level-2);\n",
              "}\n",
              "\n",
              "/* Specification for estimator info (e.g. \"i\" and \"?\") */\n",
              "\n",
              "/* Common style for \"i\" and \"?\" */\n",
              "\n",
              ".sk-estimator-doc-link,\n",
              "a:link.sk-estimator-doc-link,\n",
              "a:visited.sk-estimator-doc-link {\n",
              "  float: right;\n",
              "  font-size: smaller;\n",
              "  line-height: 1em;\n",
              "  font-family: monospace;\n",
              "  background-color: var(--sklearn-color-background);\n",
              "  border-radius: 1em;\n",
              "  height: 1em;\n",
              "  width: 1em;\n",
              "  text-decoration: none !important;\n",
              "  margin-left: 0.5em;\n",
              "  text-align: center;\n",
              "  /* unfitted */\n",
              "  border: var(--sklearn-color-unfitted-level-1) 1pt solid;\n",
              "  color: var(--sklearn-color-unfitted-level-1);\n",
              "}\n",
              "\n",
              ".sk-estimator-doc-link.fitted,\n",
              "a:link.sk-estimator-doc-link.fitted,\n",
              "a:visited.sk-estimator-doc-link.fitted {\n",
              "  /* fitted */\n",
              "  border: var(--sklearn-color-fitted-level-1) 1pt solid;\n",
              "  color: var(--sklearn-color-fitted-level-1);\n",
              "}\n",
              "\n",
              "/* On hover */\n",
              "div.sk-estimator:hover .sk-estimator-doc-link:hover,\n",
              ".sk-estimator-doc-link:hover,\n",
              "div.sk-label-container:hover .sk-estimator-doc-link:hover,\n",
              ".sk-estimator-doc-link:hover {\n",
              "  /* unfitted */\n",
              "  background-color: var(--sklearn-color-unfitted-level-3);\n",
              "  color: var(--sklearn-color-background);\n",
              "  text-decoration: none;\n",
              "}\n",
              "\n",
              "div.sk-estimator.fitted:hover .sk-estimator-doc-link.fitted:hover,\n",
              ".sk-estimator-doc-link.fitted:hover,\n",
              "div.sk-label-container:hover .sk-estimator-doc-link.fitted:hover,\n",
              ".sk-estimator-doc-link.fitted:hover {\n",
              "  /* fitted */\n",
              "  background-color: var(--sklearn-color-fitted-level-3);\n",
              "  color: var(--sklearn-color-background);\n",
              "  text-decoration: none;\n",
              "}\n",
              "\n",
              "/* Span, style for the box shown on hovering the info icon */\n",
              ".sk-estimator-doc-link span {\n",
              "  display: none;\n",
              "  z-index: 9999;\n",
              "  position: relative;\n",
              "  font-weight: normal;\n",
              "  right: .2ex;\n",
              "  padding: .5ex;\n",
              "  margin: .5ex;\n",
              "  width: min-content;\n",
              "  min-width: 20ex;\n",
              "  max-width: 50ex;\n",
              "  color: var(--sklearn-color-text);\n",
              "  box-shadow: 2pt 2pt 4pt #999;\n",
              "  /* unfitted */\n",
              "  background: var(--sklearn-color-unfitted-level-0);\n",
              "  border: .5pt solid var(--sklearn-color-unfitted-level-3);\n",
              "}\n",
              "\n",
              ".sk-estimator-doc-link.fitted span {\n",
              "  /* fitted */\n",
              "  background: var(--sklearn-color-fitted-level-0);\n",
              "  border: var(--sklearn-color-fitted-level-3);\n",
              "}\n",
              "\n",
              ".sk-estimator-doc-link:hover span {\n",
              "  display: block;\n",
              "}\n",
              "\n",
              "/* \"?\"-specific style due to the `<a>` HTML tag */\n",
              "\n",
              "#sk-container-id-1 a.estimator_doc_link {\n",
              "  float: right;\n",
              "  font-size: 1rem;\n",
              "  line-height: 1em;\n",
              "  font-family: monospace;\n",
              "  background-color: var(--sklearn-color-background);\n",
              "  border-radius: 1rem;\n",
              "  height: 1rem;\n",
              "  width: 1rem;\n",
              "  text-decoration: none;\n",
              "  /* unfitted */\n",
              "  color: var(--sklearn-color-unfitted-level-1);\n",
              "  border: var(--sklearn-color-unfitted-level-1) 1pt solid;\n",
              "}\n",
              "\n",
              "#sk-container-id-1 a.estimator_doc_link.fitted {\n",
              "  /* fitted */\n",
              "  border: var(--sklearn-color-fitted-level-1) 1pt solid;\n",
              "  color: var(--sklearn-color-fitted-level-1);\n",
              "}\n",
              "\n",
              "/* On hover */\n",
              "#sk-container-id-1 a.estimator_doc_link:hover {\n",
              "  /* unfitted */\n",
              "  background-color: var(--sklearn-color-unfitted-level-3);\n",
              "  color: var(--sklearn-color-background);\n",
              "  text-decoration: none;\n",
              "}\n",
              "\n",
              "#sk-container-id-1 a.estimator_doc_link.fitted:hover {\n",
              "  /* fitted */\n",
              "  background-color: var(--sklearn-color-fitted-level-3);\n",
              "}\n",
              "</style><div id=\"sk-container-id-1\" class=\"sk-top-container\"><div class=\"sk-text-repr-fallback\"><pre>LogisticRegression()</pre><b>In a Jupyter environment, please rerun this cell to show the HTML representation or trust the notebook. <br />On GitHub, the HTML representation is unable to render, please try loading this page with nbviewer.org.</b></div><div class=\"sk-container\" hidden><div class=\"sk-item\"><div class=\"sk-estimator fitted sk-toggleable\"><input class=\"sk-toggleable__control sk-hidden--visually\" id=\"sk-estimator-id-1\" type=\"checkbox\" checked><label for=\"sk-estimator-id-1\" class=\"sk-toggleable__label fitted sk-toggleable__label-arrow\"><div><div>LogisticRegression</div></div><div><a class=\"sk-estimator-doc-link fitted\" rel=\"noreferrer\" target=\"_blank\" href=\"https://scikit-learn.org/1.6/modules/generated/sklearn.linear_model.LogisticRegression.html\">?<span>Documentation for LogisticRegression</span></a><span class=\"sk-estimator-doc-link fitted\">i<span>Fitted</span></span></div></label><div class=\"sk-toggleable__content fitted\"><pre>LogisticRegression()</pre></div> </div></div></div></div>"
            ]
          },
          "metadata": {},
          "execution_count": 22
        }
      ]
    },
    {
      "cell_type": "code",
      "source": [
        "y_val_pred = model.predict(X_val)"
      ],
      "metadata": {
        "id": "XZULccxoMvVi"
      },
      "execution_count": 23,
      "outputs": []
    },
    {
      "cell_type": "code",
      "source": [
        "accuracy = accuracy_score(y_val, y_val_pred)\n",
        "precision = precision_score(y_val, y_val_pred)\n",
        "recall = recall_score(y_val, y_val_pred)\n",
        "f1 = f1_score(y_val, y_val_pred)\n",
        "roc_auc = roc_auc_score(y_val, model.predict_proba(X_val)[:, 1])\n",
        "conf_matrix = confusion_matrix(y_val, y_val_pred)"
      ],
      "metadata": {
        "id": "KUQrZsINMxbx"
      },
      "execution_count": 24,
      "outputs": []
    },
    {
      "cell_type": "code",
      "source": [
        "print(\"\\nBaseline Logistic Regression Performance on Validation Set:\")\n",
        "print(\"Accuracy:\", accuracy)\n",
        "print(\"Precision:\", precision)\n",
        "print(\"Recall:\", recall)\n",
        "print(\"F1 Score:\", f1)\n",
        "print(\"ROC AUC:\", roc_auc)\n",
        "print(\"Confusion Matrix:\\n\", conf_matrix)\n",
        "print(\"\\nClassification Report:\\n\", classification_report(y_val, y_val_pred))"
      ],
      "metadata": {
        "colab": {
          "base_uri": "https://localhost:8080/",
          "height": 0
        },
        "id": "BmIpuewjM1Yb",
        "outputId": "30ce24cf-44bf-498d-b878-6339405fb3ed"
      },
      "execution_count": 25,
      "outputs": [
        {
          "output_type": "stream",
          "name": "stdout",
          "text": [
            "\n",
            "Baseline Logistic Regression Performance on Validation Set:\n",
            "Accuracy: 0.8112244897959183\n",
            "Precision: 0.7375\n",
            "Recall: 0.7866666666666666\n",
            "F1 Score: 0.7612903225806451\n",
            "ROC AUC: 0.8790082644628099\n",
            "Confusion Matrix:\n",
            " [[100  21]\n",
            " [ 16  59]]\n",
            "\n",
            "Classification Report:\n",
            "               precision    recall  f1-score   support\n",
            "\n",
            "           0       0.86      0.83      0.84       121\n",
            "           1       0.74      0.79      0.76        75\n",
            "\n",
            "    accuracy                           0.81       196\n",
            "   macro avg       0.80      0.81      0.80       196\n",
            "weighted avg       0.81      0.81      0.81       196\n",
            "\n"
          ]
        }
      ]
    },
    {
      "cell_type": "markdown",
      "source": [
        "#Improving the Model\n",
        "\n",
        "We can use GridSearchCV for logistic regression allows us to improve our model performance. We can see that tuning parameters, regularization strength and penalty type can significantly alter the model's performance. We can try other optimization techniques to see if the linear nature of logistic regression is enough to give accurate predictions. It may be the case that our data cannot reliably be predicted using just a linear approach."
      ],
      "metadata": {
        "id": "Hj7M0V4ynREZ"
      }
    },
    {
      "cell_type": "code",
      "source": [
        "param_grid = {\n",
        "    'C': [0.001, 0.01, 0.1, 1, 10, 100],\n",
        "    'penalty': ['l1', 'l2'],\n",
        "    'solver': ['liblinear']\n",
        "}"
      ],
      "metadata": {
        "id": "zo3cnL2eNCKc"
      },
      "execution_count": 26,
      "outputs": []
    },
    {
      "cell_type": "code",
      "source": [
        "grid_search = GridSearchCV(LogisticRegression(random_state=42), param_grid, cv=5, scoring='f1', n_jobs=-1)\n",
        "grid_search.fit(X_train, y_train)\n",
        "print(\"\\nBest parameters from GridSearchCV:\", grid_search.best_params_)\n",
        "print(\"Best F1 score from GridSearchCV:\", grid_search.best_score_)"
      ],
      "metadata": {
        "colab": {
          "base_uri": "https://localhost:8080/",
          "height": 0
        },
        "id": "ICw9nPUzNCEj",
        "outputId": "b1c049bc-9d59-436e-8325-b864b172036b"
      },
      "execution_count": 29,
      "outputs": [
        {
          "output_type": "stream",
          "name": "stdout",
          "text": [
            "\n",
            "Best parameters from GridSearchCV: {'C': 10, 'penalty': 'l2', 'solver': 'liblinear'}\n",
            "Best F1 score from GridSearchCV: 0.7512128085040702\n"
          ]
        }
      ]
    },
    {
      "cell_type": "code",
      "source": [
        "best_lr = grid_search.best_estimator_\n",
        "y_val_pred_best_lr = best_lr.predict(X_val)\n",
        "print(\"\\nTuned Logistic Regression Performance on Validation Set:\")\n",
        "print(\"Accuracy:\", accuracy_score(y_val, y_val_pred_best_lr))\n",
        "print(\"Precision:\", precision_score(y_val, y_val_pred_best_lr))\n",
        "print(\"Recall:\", recall_score(y_val, y_val_pred_best_lr))\n",
        "print(\"F1 Score:\", f1_score(y_val, y_val_pred_best_lr))\n",
        "print(\"ROC AUC:\", roc_auc_score(y_val, best_lr.predict_proba(X_val)[:, 1]))\n",
        "print(\"Confusion Matrix:\\n\", confusion_matrix(y_val, y_val_pred_best_lr))\n",
        "print(\"\\nClassification Report:\\n\", classification_report(y_val, y_val_pred_best_lr))"
      ],
      "metadata": {
        "colab": {
          "base_uri": "https://localhost:8080/",
          "height": 0
        },
        "id": "IgICHon_NB98",
        "outputId": "6956f389-7023-40c1-8252-d1d59c2b1708"
      },
      "execution_count": 30,
      "outputs": [
        {
          "output_type": "stream",
          "name": "stdout",
          "text": [
            "\n",
            "Tuned Logistic Regression Performance on Validation Set:\n",
            "Accuracy: 0.8112244897959183\n",
            "Precision: 0.7375\n",
            "Recall: 0.7866666666666666\n",
            "F1 Score: 0.7612903225806451\n",
            "ROC AUC: 0.8786776859504133\n",
            "Confusion Matrix:\n",
            " [[100  21]\n",
            " [ 16  59]]\n",
            "\n",
            "Classification Report:\n",
            "               precision    recall  f1-score   support\n",
            "\n",
            "           0       0.86      0.83      0.84       121\n",
            "           1       0.74      0.79      0.76        75\n",
            "\n",
            "    accuracy                           0.81       196\n",
            "   macro avg       0.80      0.81      0.80       196\n",
            "weighted avg       0.81      0.81      0.81       196\n",
            "\n"
          ]
        }
      ]
    },
    {
      "cell_type": "code",
      "source": [
        "final_model = best_lr\n",
        "y_test_pred = final_model.predict(X_test)\n",
        "test_accuracy = accuracy_score(y_test, y_test_pred)\n",
        "print(\"\\nFinal Test Set Accuracy:\", test_accuracy)"
      ],
      "metadata": {
        "colab": {
          "base_uri": "https://localhost:8080/",
          "height": 0
        },
        "id": "S0JQeY3iNBh0",
        "outputId": "05162a22-9983-4cd3-f453-8738705cc5e5"
      },
      "execution_count": 31,
      "outputs": [
        {
          "output_type": "stream",
          "name": "stdout",
          "text": [
            "\n",
            "Final Test Set Accuracy: 0.7817258883248731\n"
          ]
        }
      ]
    },
    {
      "cell_type": "code",
      "source": [],
      "metadata": {
        "id": "2MTWKTygqFED"
      },
      "execution_count": null,
      "outputs": []
    },
    {
      "cell_type": "code",
      "source": [],
      "metadata": {
        "id": "J-XhoYAUqE6z"
      },
      "execution_count": null,
      "outputs": []
    },
    {
      "cell_type": "code",
      "source": [],
      "metadata": {
        "id": "cG0uxt4NqLYo"
      },
      "execution_count": null,
      "outputs": []
    },
    {
      "cell_type": "code",
      "source": [],
      "metadata": {
        "id": "kHz3X_2aqLVM"
      },
      "execution_count": null,
      "outputs": []
    },
    {
      "cell_type": "code",
      "source": [],
      "metadata": {
        "id": "HMbr2DuyqLSi"
      },
      "execution_count": null,
      "outputs": []
    },
    {
      "cell_type": "code",
      "source": [],
      "metadata": {
        "id": "P1zcsxHbqLQj"
      },
      "execution_count": null,
      "outputs": []
    },
    {
      "cell_type": "code",
      "source": [],
      "metadata": {
        "id": "Iyc7shA8qLNZ"
      },
      "execution_count": null,
      "outputs": []
    },
    {
      "cell_type": "code",
      "source": [],
      "metadata": {
        "id": "mLZ6BCa8qLLB"
      },
      "execution_count": null,
      "outputs": []
    },
    {
      "cell_type": "code",
      "source": [],
      "metadata": {
        "id": "ovHpo23dqLIn"
      },
      "execution_count": null,
      "outputs": []
    },
    {
      "cell_type": "code",
      "source": [],
      "metadata": {
        "id": "_tchmrowqLGH"
      },
      "execution_count": null,
      "outputs": []
    },
    {
      "cell_type": "code",
      "source": [],
      "metadata": {
        "id": "dNfvEeh1qLDm"
      },
      "execution_count": null,
      "outputs": []
    },
    {
      "cell_type": "code",
      "source": [],
      "metadata": {
        "id": "TbQCG19fqLBF"
      },
      "execution_count": null,
      "outputs": []
    },
    {
      "cell_type": "code",
      "source": [],
      "metadata": {
        "id": "T_n9DvSRqPo8"
      },
      "execution_count": null,
      "outputs": []
    },
    {
      "cell_type": "code",
      "source": [],
      "metadata": {
        "id": "29rtT5PzqPl8"
      },
      "execution_count": null,
      "outputs": []
    },
    {
      "cell_type": "code",
      "source": [],
      "metadata": {
        "id": "Uk9Zah-8qPjY"
      },
      "execution_count": null,
      "outputs": []
    },
    {
      "cell_type": "code",
      "source": [],
      "metadata": {
        "id": "e_9oBjD6qPWv"
      },
      "execution_count": null,
      "outputs": []
    },
    {
      "cell_type": "code",
      "source": [],
      "metadata": {
        "id": "OlL1yjhHqPUS"
      },
      "execution_count": null,
      "outputs": []
    },
    {
      "cell_type": "code",
      "source": [],
      "metadata": {
        "id": "pCNsDeWnrbMs"
      },
      "execution_count": null,
      "outputs": []
    },
    {
      "cell_type": "code",
      "source": [],
      "metadata": {
        "id": "8WgHGZwRrbD4"
      },
      "execution_count": null,
      "outputs": []
    },
    {
      "cell_type": "code",
      "source": [],
      "metadata": {
        "id": "WppO6xF1ra8u"
      },
      "execution_count": null,
      "outputs": []
    },
    {
      "cell_type": "code",
      "source": [],
      "metadata": {
        "id": "eWCPhNQCrfJm"
      },
      "execution_count": null,
      "outputs": []
    },
    {
      "cell_type": "code",
      "source": [],
      "metadata": {
        "id": "iA-_0fq_rfBP"
      },
      "execution_count": null,
      "outputs": []
    },
    {
      "cell_type": "code",
      "source": [],
      "metadata": {
        "id": "oi6cItP0re5r"
      },
      "execution_count": null,
      "outputs": []
    }
  ]
}