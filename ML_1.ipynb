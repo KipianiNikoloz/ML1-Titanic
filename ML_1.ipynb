{
  "nbformat": 4,
  "nbformat_minor": 0,
  "metadata": {
    "colab": {
      "provenance": []
    },
    "kernelspec": {
      "name": "python3",
      "display_name": "Python 3"
    },
    "language_info": {
      "name": "python"
    }
  },
  "cells": [
    {
      "cell_type": "markdown",
      "source": [
        "#Initial Setup\n",
        "\n",
        "We set up the necessary libraries we need for the assignment"
      ],
      "metadata": {
        "id": "ZLvWOh5DkyBM"
      }
    },
    {
      "cell_type": "code",
      "execution_count": 35,
      "metadata": {
        "id": "m9ZMIAyjcUj5"
      },
      "outputs": [],
      "source": [
        "import pandas as pd\n",
        "import numpy as np\n",
        "import matplotlib.pyplot as plt\n",
        "import seaborn as sns\n",
        "from sklearn.model_selection import train_test_split\n",
        "from sklearn.preprocessing import OneHotEncoder, StandardScaler, MinMaxScaler\n",
        "from sklearn.impute import SimpleImputer\n",
        "from sklearn.linear_model import LogisticRegression\n",
        "from imblearn.over_sampling import SMOTE\n",
        "from sklearn.metrics import accuracy_score, precision_score, recall_score, f1_score, confusion_matrix, roc_auc_score, classification_report\n",
        "from sklearn.model_selection import GridSearchCV\n"
      ]
    },
    {
      "cell_type": "markdown",
      "source": [
        "#Preliminary Work\n",
        "\n",
        "We load the data into a dataframe and explore the data by looking at the first few entries, getting information, and getting descriptive statistics about the data."
      ],
      "metadata": {
        "id": "dTtPTGb-kxVe"
      }
    },
    {
      "cell_type": "code",
      "source": [
        "# Task 1: Data Loading and Initial Exploration\n",
        "# Load the Titanic dataset\n",
        "df = pd.read_excel(\"./titanic3.xls\")\n",
        "print(\"Initial Data Preview:\")\n",
        "print(df.head())\n",
        "print(\"\\nData Info:\")\n",
        "print(df.info())\n",
        "print(\"\\nDescriptive Statistics:\")\n",
        "print(df.describe())"
      ],
      "metadata": {
        "colab": {
          "base_uri": "https://localhost:8080/"
        },
        "id": "Cly4FpzWdm5_",
        "outputId": "fc47a5ce-8314-429c-8a29-b931eefab8b0"
      },
      "execution_count": 14,
      "outputs": [
        {
          "output_type": "stream",
          "name": "stdout",
          "text": [
            "Initial Data Preview:\n",
            "   pclass  survived                                             name     sex  \\\n",
            "0       1         1                    Allen, Miss. Elisabeth Walton  female   \n",
            "1       1         1                   Allison, Master. Hudson Trevor    male   \n",
            "2       1         0                     Allison, Miss. Helen Loraine  female   \n",
            "3       1         0             Allison, Mr. Hudson Joshua Creighton    male   \n",
            "4       1         0  Allison, Mrs. Hudson J C (Bessie Waldo Daniels)  female   \n",
            "\n",
            "       age  sibsp  parch  ticket      fare    cabin embarked boat   body  \\\n",
            "0  29.0000      0      0   24160  211.3375       B5        S    2    NaN   \n",
            "1   0.9167      1      2  113781  151.5500  C22 C26        S   11    NaN   \n",
            "2   2.0000      1      2  113781  151.5500  C22 C26        S  NaN    NaN   \n",
            "3  30.0000      1      2  113781  151.5500  C22 C26        S  NaN  135.0   \n",
            "4  25.0000      1      2  113781  151.5500  C22 C26        S  NaN    NaN   \n",
            "\n",
            "                         home.dest  \n",
            "0                     St Louis, MO  \n",
            "1  Montreal, PQ / Chesterville, ON  \n",
            "2  Montreal, PQ / Chesterville, ON  \n",
            "3  Montreal, PQ / Chesterville, ON  \n",
            "4  Montreal, PQ / Chesterville, ON  \n",
            "\n",
            "Data Info:\n",
            "<class 'pandas.core.frame.DataFrame'>\n",
            "RangeIndex: 1309 entries, 0 to 1308\n",
            "Data columns (total 14 columns):\n",
            " #   Column     Non-Null Count  Dtype  \n",
            "---  ------     --------------  -----  \n",
            " 0   pclass     1309 non-null   int64  \n",
            " 1   survived   1309 non-null   int64  \n",
            " 2   name       1309 non-null   object \n",
            " 3   sex        1309 non-null   object \n",
            " 4   age        1046 non-null   float64\n",
            " 5   sibsp      1309 non-null   int64  \n",
            " 6   parch      1309 non-null   int64  \n",
            " 7   ticket     1309 non-null   object \n",
            " 8   fare       1308 non-null   float64\n",
            " 9   cabin      295 non-null    object \n",
            " 10  embarked   1307 non-null   object \n",
            " 11  boat       486 non-null    object \n",
            " 12  body       121 non-null    float64\n",
            " 13  home.dest  745 non-null    object \n",
            "dtypes: float64(3), int64(4), object(7)\n",
            "memory usage: 143.3+ KB\n",
            "None\n",
            "\n",
            "Descriptive Statistics:\n",
            "            pclass     survived          age        sibsp        parch  \\\n",
            "count  1309.000000  1309.000000  1046.000000  1309.000000  1309.000000   \n",
            "mean      2.294882     0.381971    29.881135     0.498854     0.385027   \n",
            "std       0.837836     0.486055    14.413500     1.041658     0.865560   \n",
            "min       1.000000     0.000000     0.166700     0.000000     0.000000   \n",
            "25%       2.000000     0.000000    21.000000     0.000000     0.000000   \n",
            "50%       3.000000     0.000000    28.000000     0.000000     0.000000   \n",
            "75%       3.000000     1.000000    39.000000     1.000000     0.000000   \n",
            "max       3.000000     1.000000    80.000000     8.000000     9.000000   \n",
            "\n",
            "              fare        body  \n",
            "count  1308.000000  121.000000  \n",
            "mean     33.295479  160.809917  \n",
            "std      51.758668   97.696922  \n",
            "min       0.000000    1.000000  \n",
            "25%       7.895800   72.000000  \n",
            "50%      14.454200  155.000000  \n",
            "75%      31.275000  256.000000  \n",
            "max     512.329200  328.000000  \n"
          ]
        }
      ]
    },
    {
      "cell_type": "markdown",
      "source": [
        "#Visualising Missing Values\n",
        "\n",
        "We use the heatmap to visualize the missing values and get an initial idea of what is going on"
      ],
      "metadata": {
        "id": "h5zkq5bLl-3V"
      }
    },
    {
      "cell_type": "code",
      "source": [
        "# Visualizing missing values\n",
        "plt.figure(figsize=(10, 6))\n",
        "sns.heatmap(df.isnull(), cbar=False, cmap='viridis')\n",
        "plt.title(\"Missing Values Heatmap\")\n",
        "plt.show()"
      ],
      "metadata": {
        "colab": {
          "base_uri": "https://localhost:8080/",
          "height": 433
        },
        "id": "4jA5-GShdzgK",
        "outputId": "79865e75-87c0-422a-8c9f-32566e9df900"
      },
      "execution_count": 15,
      "outputs": [
        {
          "output_type": "display_data",
          "data": {
            "text/plain": [
              "<Figure size 1000x600 with 1 Axes>"
            ],
            "image/png": "[encoded data removed]"
          },
          "metadata": {}
        }
      ]
    },
    {
      "cell_type": "markdown",
      "source": [
        "#Dropping Columns\n",
        "\n",
        "Some of the columns in our data can and should be dropped.\n",
        "* Name - has little predictive significance unless we extract titles.\n",
        "* Ticket - quite messy and useless without extracting meaningful symbols.\n",
        "* Cabin - very high percentage of missing values, might be better to drop for a baseline model.\n",
        "* Body and Boat - while these could be useful, they are only known post-incident and could introduce leakage, artifically boosting our model's performance.\n",
        "\n"
      ],
      "metadata": {
        "id": "NyqA3OK8mXT8"
      }
    },
    {
      "cell_type": "code",
      "source": [
        "drop_cols = ['name', 'ticket', 'cabin', 'boat', 'body', 'home.dest']\n",
        "df.drop(columns=drop_cols, inplace=True)"
      ],
      "metadata": {
        "id": "ZlF9IM-fmW7-"
      },
      "execution_count": 16,
      "outputs": []
    },
    {
      "cell_type": "markdown",
      "source": [
        "#Handling Missing Values\n",
        "\n",
        "To handle the missing values, we input the median for numerical variables and the mode for categorical variables. The median is resistant to outliers, while the mode is the most repeated element, working well for categorical data"
      ],
      "metadata": {
        "id": "jZltv8WTmOTk"
      }
    },
    {
      "cell_type": "code",
      "source": [
        "missing_cols = df.columns[df.isnull().any()]\n",
        "for col in missing_cols:\n",
        "    if df[col].dtype == \"object\":\n",
        "        df[col].fillna(df[col].mode()[0], inplace=True)\n",
        "    else:\n",
        "        df[col].fillna(df[col].median(), inplace=True)"
      ],
      "metadata": {
        "colab": {
          "base_uri": "https://localhost:8080/"
        },
        "id": "SjkFVrX-hP1D",
        "outputId": "533db951-0149-4aa0-c58c-7a94e9029804"
      },
      "execution_count": 17,
      "outputs": [
        {
          "output_type": "stream",
          "name": "stderr",
          "text": [
            "<ipython-input-17-e0b166b3496c>:6: FutureWarning: A value is trying to be set on a copy of a DataFrame or Series through chained assignment using an inplace method.\n",
            "The behavior will change in pandas 3.0. This inplace method will never work because the intermediate object on which we are setting values always behaves as a copy.\n",
            "\n",
            "For example, when doing 'df[col].method(value, inplace=True)', try using 'df.method({col: value}, inplace=True)' or df[col] = df[col].method(value) instead, to perform the operation inplace on the original object.\n",
            "\n",
            "\n",
            "  df[col].fillna(df[col].median(), inplace=True)\n",
            "<ipython-input-17-e0b166b3496c>:4: FutureWarning: A value is trying to be set on a copy of a DataFrame or Series through chained assignment using an inplace method.\n",
            "The behavior will change in pandas 3.0. This inplace method will never work because the intermediate object on which we are setting values always behaves as a copy.\n",
            "\n",
            "For example, when doing 'df[col].method(value, inplace=True)', try using 'df.method({col: value}, inplace=True)' or df[col] = df[col].method(value) instead, to perform the operation inplace on the original object.\n",
            "\n",
            "\n",
            "  df[col].fillna(df[col].mode()[0], inplace=True)\n"
          ]
        }
      ]
    },
    {
      "cell_type": "markdown",
      "source": [
        "#Encoding Categorial Values\n",
        "\n",
        "After we have dropped some of the values, we need to encode the categorical values in our data. We encode them into binary values. To reduce redundancy, we drop the first category, which reduces multicollinearity. This is important for regression-based models."
      ],
      "metadata": {
        "id": "KurgYCEIx9l5"
      }
    },
    {
      "cell_type": "code",
      "source": [
        "categorical_features = ['sex', 'embarked', 'pclass']\n",
        "one_hot_encoder = OneHotEncoder(drop='first', sparse_output=False)\n",
        "categorical_encoded = one_hot_encoder.fit_transform(df[categorical_features])\n",
        "categorical_df = pd.DataFrame(categorical_encoded, columns=one_hot_encoder.get_feature_names_out(categorical_features))\n",
        "\n",
        "df = df.drop(columns=categorical_features).join(categorical_df)"
      ],
      "metadata": {
        "id": "x_utqGoQx6YX"
      },
      "execution_count": 18,
      "outputs": []
    },
    {
      "cell_type": "markdown",
      "source": [
        "#Feature Scaling\n",
        "\n",
        "We need to transform the data so that all the numerical features we have contribute equally. To do this, we will standardize the numerical values to have a mean of 0 and a standard deviation of 1. Another option was normalizing the data. For our requirements, I think standardization is preferrable, as it works quite well with regression models"
      ],
      "metadata": {
        "id": "T_tIT4mezupm"
      }
    },
    {
      "cell_type": "code",
      "source": [
        "scaler = StandardScaler()\n",
        "df[['fare', 'sibsp', 'parch']] = scaler.fit_transform(df[['fare', 'sibsp', 'parch']])"
      ],
      "metadata": {
        "id": "jblX30HM0zGw"
      },
      "execution_count": 19,
      "outputs": []
    },
    {
      "cell_type": "markdown",
      "source": [
        "#Data Splitting\n",
        "\n",
        "Data splitting is essential for us. The approach we take is that first the data is split into a 7-3 split, with 70% being the training set, and the 30% being the other set for now. We use stratification on the survived variable to ensure that the proportion is maintained.\n",
        "\n",
        "The other set is next divided into an equal split of a validation set and a test set. The validation set is used to tune hyperparameters and measure the model's performance. The test set is used to evaluate the model in a non-biased way.\n",
        "\n",
        "Setting a fixed value for random_state allows."
      ],
      "metadata": {
        "id": "VE_BEvfX05Jm"
      }
    },
    {
      "cell_type": "code",
      "source": [
        "y = df['survived']\n",
        "X = df.drop(columns=['survived'])\n",
        "X_train, X_temp, y_train, y_temp = train_test_split(X, y, test_size=0.3, stratify=y, random_state=42)\n",
        "X_val, X_test, y_val, y_test = train_test_split(X_temp, y_temp, test_size=0.5, stratify=y_temp, random_state=42)"
      ],
      "metadata": {
        "id": "qBDop-m82Bxr"
      },
      "execution_count": 20,
      "outputs": []
    },
    {
      "cell_type": "markdown",
      "source": [
        "#Addressing Class Imbalance\n",
        "\n",
        "The Titanic data is not balanced, because there are more non-survivors than survivors. To deal with this, we apply SMOTE. This balances the training data."
      ],
      "metadata": {
        "id": "XsXS-LxkYdIS"
      }
    },
    {
      "cell_type": "code",
      "source": [
        "smote = SMOTE(random_state=42)\n",
        "X_train, y_train = smote.fit_resample(X_train, y_train)"
      ],
      "metadata": {
        "id": "BH5peVepY0dE"
      },
      "execution_count": 21,
      "outputs": []
    },
    {
      "cell_type": "markdown",
      "source": [
        "#Feature Selection\n",
        "\n",
        "Some of the features should be removed to improve performance by reducing redundancy. These features are supposed to have low variance(contribute little) and high correlation(increases multicollinearity). The feature selection should be done after the data is split to maintain balance among the training, validation and test sets."
      ],
      "metadata": {
        "id": "uLTwr8ckY8Z7"
      }
    },
    {
      "cell_type": "code",
      "source": [
        "constant_cols = [col for col in X_train.columns if X_train[col].nunique() == 1]\n",
        "if constant_cols:\n",
        "    print(\"Dropping constant columns:\", constant_cols)\n",
        "    X_train = X_train.drop(columns=constant_cols)\n",
        "    X_val = X_val.drop(columns=constant_cols)\n",
        "    X_test = X_test.drop(columns=constant_cols)\n",
        "\n",
        "corr_matrix = X_train.corr().abs()\n",
        "upper_tri = corr_matrix.where(np.triu(np.ones(corr_matrix.shape), k=1).astype(bool))\n",
        "to_drop = [column for column in upper_tri.columns if any(upper_tri[column] > 0.8)]\n",
        "\n",
        "if len(to_drop) < X_train.shape[1]:\n",
        "    print(\"Dropping highly correlated features:\", to_drop)\n",
        "    X_train = X_train.drop(columns=to_drop)\n",
        "    X_val = X_val.drop(columns=to_drop)\n",
        "    X_test = X_test.drop(columns=to_drop)\n",
        "else:\n",
        "    print(\"No features dropped from correlation check to avoid empty feature set.\")"
      ],
      "metadata": {
        "id": "nLFgATsSZjbY",
        "colab": {
          "base_uri": "https://localhost:8080/"
        },
        "outputId": "12824291-2f3b-46c1-8164-a7ee7acbf394"
      },
      "execution_count": 22,
      "outputs": [
        {
          "output_type": "stream",
          "name": "stdout",
          "text": [
            "Dropping highly correlated features: []\n"
          ]
        }
      ]
    },
    {
      "cell_type": "code",
      "source": [
        "print(X_train)"
      ],
      "metadata": {
        "colab": {
          "base_uri": "https://localhost:8080/"
        },
        "id": "7SP7wIrql1gQ",
        "outputId": "8dff8c41-27d2-480b-b3b1-0b9e622aa8ae"
      },
      "execution_count": 23,
      "outputs": [
        {
          "output_type": "stream",
          "name": "stdout",
          "text": [
            "            age     sibsp     parch      fare  sex_male  embarked_Q  \\\n",
            "0     54.000000 -0.479087  0.710763  0.850830   1.00000         0.0   \n",
            "1     28.000000  0.481288 -0.445000 -0.364003   1.00000         0.0   \n",
            "2     13.000000  3.362411  1.866526 -0.036611   1.00000         0.0   \n",
            "3     28.500000 -0.479087 -0.445000 -0.332183   1.00000         0.0   \n",
            "4     55.500000 -0.479087 -0.445000 -0.487824   1.00000         0.0   \n",
            "...         ...       ...       ...       ...       ...         ...   \n",
            "1127  76.493395 -0.479087 -0.445000  0.093486   0.82467         0.0   \n",
            "1128  30.982839  0.481288 -0.445000  0.458836   1.00000         0.0   \n",
            "1129  28.000000 -0.251828 -0.171505 -0.467016   1.00000         0.0   \n",
            "1130  40.000000  0.295852  0.487600  2.027781   0.00000         0.0   \n",
            "1131  29.000000 -0.479087  1.866526 -0.296780   0.00000         0.0   \n",
            "\n",
            "      embarked_S  pclass_2  pclass_3  \n",
            "0       1.000000  0.000000  0.000000  \n",
            "1       0.000000  0.000000  1.000000  \n",
            "2       1.000000  0.000000  1.000000  \n",
            "3       1.000000  0.000000  1.000000  \n",
            "4       1.000000  0.000000  1.000000  \n",
            "...          ...       ...       ...  \n",
            "1127    0.824670  0.000000  0.000000  \n",
            "1128    0.982839  0.000000  0.000000  \n",
            "1129    0.000000  0.000000  1.000000  \n",
            "1130    0.193087  0.000000  0.000000  \n",
            "1131    0.346304  0.346304  0.653696  \n",
            "\n",
            "[1132 rows x 9 columns]\n"
          ]
        }
      ]
    },
    {
      "cell_type": "markdown",
      "source": [
        "#Training the Model\n",
        "\n",
        "We will be using Logistic Regression. This is an efficient model for predicting binary outcomes. After training the model, we make adjustments based on how it performs on the validation set."
      ],
      "metadata": {
        "id": "s3D5ttgSZnBp"
      }
    },
    {
      "cell_type": "code",
      "source": [
        "model = LogisticRegression()\n",
        "model.fit(X_train, y_train)\n",
        "y_pred = model.predict(X_val)"
      ],
      "metadata": {
        "id": "1N8-VOEyadDo"
      },
      "execution_count": 30,
      "outputs": []
    },
    {
      "cell_type": "markdown",
      "source": [
        "#Visualising and Testing Results\n",
        "\n",
        "Here we visualize our results and validate the data, improving model performance if necesary."
      ],
      "metadata": {
        "id": "f09Z-TFzajv1"
      }
    },
    {
      "cell_type": "code",
      "source": [
        "y_test_pred = model.predict(X_test)\n",
        "y_test_proba = model.predict_proba(X_test)[:, 1]  # probabilities for the positive class\n",
        "\n",
        "# Calculate metrics\n",
        "accuracy = accuracy_score(y_test, y_test_pred)\n",
        "precision = precision_score(y_test, y_test_pred)\n",
        "recall = recall_score(y_test, y_test_pred)\n",
        "f1 = f1_score(y_test, y_test_pred)\n",
        "roc_auc = roc_auc_score(y_test, y_test_proba)\n",
        "conf_matrix = confusion_matrix(y_test, y_test_pred)\n",
        "\n",
        "print(\"Test Set Performance:\")\n",
        "print(\"Accuracy:\", accuracy)\n",
        "print(\"Precision:\", precision)\n",
        "print(\"Recall:\", recall)\n",
        "print(\"F1 Score:\", f1)\n",
        "print(\"ROC AUC:\", roc_auc)\n",
        "print(\"Confusion Matrix:\\n\", conf_matrix)\n",
        "print(\"\\nClassification Report:\\n\", classification_report(y_test, y_test_pred))"
      ],
      "metadata": {
        "colab": {
          "base_uri": "https://localhost:8080/"
        },
        "id": "q_-HPbgum7Qb",
        "outputId": "f1efa130-dd56-469e-c702-2af57c28aff8"
      },
      "execution_count": 41,
      "outputs": [
        {
          "output_type": "stream",
          "name": "stdout",
          "text": [
            "Test Set Performance:\n",
            "Accuracy: 0.7817258883248731\n",
            "Precision: 0.6951219512195121\n",
            "Recall: 0.76\n",
            "F1 Score: 0.7261146496815286\n",
            "ROC AUC: 0.8554644808743168\n",
            "Confusion Matrix:\n",
            " [[97 25]\n",
            " [18 57]]\n",
            "\n",
            "Classification Report:\n",
            "               precision    recall  f1-score   support\n",
            "\n",
            "           0       0.84      0.80      0.82       122\n",
            "           1       0.70      0.76      0.73        75\n",
            "\n",
            "    accuracy                           0.78       197\n",
            "   macro avg       0.77      0.78      0.77       197\n",
            "weighted avg       0.79      0.78      0.78       197\n",
            "\n"
          ]
        }
      ]
    },
    {
      "cell_type": "code",
      "source": [
        "param_grid = {\n",
        "    'C': [0.01, 0.1, 1, 10],\n",
        "    'penalty': ['l1', 'l2'],\n",
        "    'solver': ['liblinear']  # 'liblinear' supports both L1 and L2\n",
        "}\n",
        "\n",
        "grid_search = GridSearchCV(LogisticRegression(), param_grid, cv=5, scoring='f1', n_jobs=-1)\n",
        "\n",
        "# Fit on the training data\n",
        "grid_search.fit(X_train, y_train)\n",
        "\n",
        "# Best parameters and score\n",
        "print(\"Best parameters:\", grid_search.best_params_)\n",
        "print(\"Best F1 score:\", grid_search.best_score_)\n",
        "\n",
        "# Evaluate on validation set\n",
        "best_model = grid_search.best_estimator_\n",
        "y_val_pred = best_model.predict(X_val)\n",
        "from sklearn.metrics import classification_report\n",
        "print(classification_report(y_val, y_val_pred))"
      ],
      "metadata": {
        "colab": {
          "base_uri": "https://localhost:8080/"
        },
        "id": "EyXhC5V1npXT",
        "outputId": "8eaeca94-85ae-4701-98a4-e94d7d4b7441"
      },
      "execution_count": 40,
      "outputs": [
        {
          "output_type": "stream",
          "name": "stdout",
          "text": [
            "Best parameters: {'C': 10, 'penalty': 'l2', 'solver': 'liblinear'}\n",
            "Best F1 score: 0.7512128085040702\n",
            "              precision    recall  f1-score   support\n",
            "\n",
            "           0       0.86      0.83      0.84       121\n",
            "           1       0.74      0.79      0.76        75\n",
            "\n",
            "    accuracy                           0.81       196\n",
            "   macro avg       0.80      0.81      0.80       196\n",
            "weighted avg       0.81      0.81      0.81       196\n",
            "\n"
          ]
        }
      ]
    },
    {
      "cell_type": "code",
      "source": [
        "print(\"Logistic Regression Model Predictions on Validation Set:\")\n",
        "print(y_pred)"
      ],
      "metadata": {
        "id": "eOMddL7ramZw",
        "colab": {
          "base_uri": "https://localhost:8080/"
        },
        "outputId": "09030287-e821-4031-8af2-61d5de94c734"
      },
      "execution_count": 37,
      "outputs": [
        {
          "output_type": "stream",
          "name": "stdout",
          "text": [
            "Logistic Regression Model Predictions on Validation Set:\n",
            "[0 0 0 1 0 1 0 0 0 0 1 0 1 1 0 0 0 1 0 0 0 0 0 1 0 0 0 0 1 1 1 1 0 1 1 1 0\n",
            " 0 0 0 1 0 0 1 0 0 0 0 0 0 0 0 1 0 0 0 0 0 0 0 1 1 0 1 0 1 1 1 0 1 1 1 0 0\n",
            " 0 1 1 1 0 0 0 0 0 1 1 0 0 0 0 0 0 1 0 0 0 1 0 0 1 1 1 1 1 1 1 1 1 0 0 1 0\n",
            " 1 0 0 1 0 1 0 1 1 1 0 1 0 0 1 1 1 1 0 1 0 0 0 0 0 1 1 0 0 0 0 0 0 0 1 1 0\n",
            " 1 1 1 1 0 1 0 1 1 0 0 0 1 1 1 1 0 0 0 1 1 0 0 0 0 0 0 0 1 0 0 1 0 0 0 0 1\n",
            " 0 0 1 1 1 0 0 0 1 1 0]\n"
          ]
        }
      ]
    }
  ]
}